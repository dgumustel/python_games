{
 "cells": [
  {
   "cell_type": "markdown",
   "id": "dc52e3a7-a44e-4ef9-884b-12766e432a6b",
   "metadata": {},
   "source": [
    "Learning how to code my favorite puzzle game, Minesweeper, in Python. Developing things in a Jupyter notebook for easy testing and debugging at each step. \n",
    "\n",
    "Notes: \n",
    "- currently only supports a square board shape"
   ]
  },
  {
   "cell_type": "code",
   "execution_count": 1,
   "id": "dc0fe8af-9372-45a8-b522-0861f9bc359a",
   "metadata": {},
   "outputs": [],
   "source": [
    "# Imports\n",
    "import random\n",
    "import numpy as np"
   ]
  },
  {
   "cell_type": "code",
   "execution_count": 2,
   "id": "e401a2c6-631d-4dcc-9f41-c996c0527956",
   "metadata": {},
   "outputs": [
    {
     "name": "stdout",
     "output_type": "stream",
     "text": [
      "- - - - -\n",
      "- - - - -\n",
      "- - - - -\n",
      "- - - - -\n",
      "- - - - -\n"
     ]
    }
   ],
   "source": [
    "# Create a board\n",
    "n = 5\n",
    "arr = [['-' for row in range(n)] for column in range(n)]\n",
    "\n",
    "for row in arr:\n",
    "    print(' '.join(str(cell) for cell in row))"
   ]
  },
  {
   "cell_type": "code",
   "execution_count": 4,
   "id": "7287ac3a-cf02-4b23-9fa6-fa50019d7fbd",
   "metadata": {},
   "outputs": [],
   "source": [
    "# # Tested a different look for the board\n",
    "# arr = ['|' for n in range(5)]\n",
    "# arrh = ['_' for n in range(21)]\n",
    "\n",
    "# for i in range(5):\n",
    "    \n",
    "#     print(''.join(arrh))\n",
    "#     print('    '.join(str(value) for value in arr))\n",
    "#     print('    '.join(str(value) for value in arr))\n",
    "    \n",
    "    \n",
    "# print(''.join(arrh))"
   ]
  },
  {
   "cell_type": "code",
   "execution_count": 63,
   "id": "35e9520e-d3e2-41a5-a8ad-847f99a181f6",
   "metadata": {},
   "outputs": [],
   "source": [
    "a = [[0 for row in range(16)] for column in range(16)]"
   ]
  },
  {
   "cell_type": "code",
   "execution_count": 64,
   "id": "fdd2d18d-55a3-4ee9-af8d-b1cedb32415a",
   "metadata": {},
   "outputs": [],
   "source": [
    "a.insert(0, list(np.arange(16)))"
   ]
  },
  {
   "cell_type": "code",
   "execution_count": 65,
   "id": "07ebbe83-cec7-4a0e-afa9-7998bed7a731",
   "metadata": {},
   "outputs": [
    {
     "data": {
      "text/plain": [
       "[[0, 1, 2, 3, 4, 5, 6, 7, 8, 9, 10, 11, 12, 13, 14, 15],\n",
       " [0, 0, 0, 0, 0, 0, 0, 0, 0, 0, 0, 0, 0, 0, 0, 0],\n",
       " [0, 0, 0, 0, 0, 0, 0, 0, 0, 0, 0, 0, 0, 0, 0, 0],\n",
       " [0, 0, 0, 0, 0, 0, 0, 0, 0, 0, 0, 0, 0, 0, 0, 0],\n",
       " [0, 0, 0, 0, 0, 0, 0, 0, 0, 0, 0, 0, 0, 0, 0, 0],\n",
       " [0, 0, 0, 0, 0, 0, 0, 0, 0, 0, 0, 0, 0, 0, 0, 0],\n",
       " [0, 0, 0, 0, 0, 0, 0, 0, 0, 0, 0, 0, 0, 0, 0, 0],\n",
       " [0, 0, 0, 0, 0, 0, 0, 0, 0, 0, 0, 0, 0, 0, 0, 0],\n",
       " [0, 0, 0, 0, 0, 0, 0, 0, 0, 0, 0, 0, 0, 0, 0, 0],\n",
       " [0, 0, 0, 0, 0, 0, 0, 0, 0, 0, 0, 0, 0, 0, 0, 0],\n",
       " [0, 0, 0, 0, 0, 0, 0, 0, 0, 0, 0, 0, 0, 0, 0, 0],\n",
       " [0, 0, 0, 0, 0, 0, 0, 0, 0, 0, 0, 0, 0, 0, 0, 0],\n",
       " [0, 0, 0, 0, 0, 0, 0, 0, 0, 0, 0, 0, 0, 0, 0, 0],\n",
       " [0, 0, 0, 0, 0, 0, 0, 0, 0, 0, 0, 0, 0, 0, 0, 0],\n",
       " [0, 0, 0, 0, 0, 0, 0, 0, 0, 0, 0, 0, 0, 0, 0, 0],\n",
       " [0, 0, 0, 0, 0, 0, 0, 0, 0, 0, 0, 0, 0, 0, 0, 0],\n",
       " [0, 0, 0, 0, 0, 0, 0, 0, 0, 0, 0, 0, 0, 0, 0, 0]]"
      ]
     },
     "execution_count": 65,
     "metadata": {},
     "output_type": "execute_result"
    }
   ],
   "source": [
    "a"
   ]
  },
  {
   "cell_type": "code",
   "execution_count": 66,
   "id": "306ad4b6-44f2-4f50-8ba4-7684dba5584f",
   "metadata": {},
   "outputs": [],
   "source": [
    "# Quick helper function for printing out the board, a 2D array \n",
    "def print_board(arr):\n",
    "    for row in arr:\n",
    "        print(' '.join(str(cell) for cell in row))\n",
    "        \n",
    "# Function for creating board with mines:\n",
    "def create_board(m, n):\n",
    "    \n",
    "    # Create the board\n",
    "    arr = [[0 for row in range(m)] for column in range(m)]\n",
    "    arr.insert(0, list(np.arange(m)))\n",
    "    i = 0\n",
    "    \n",
    "    # Add n mines\n",
    "    # Using a while loop with i counter for cases when mines get generated on top of existing ones\n",
    "    while i < n:\n",
    "        # print('i = ', i)\n",
    "        \n",
    "        # Generate random spot on board\n",
    "        x = random.randint(1, m-1)\n",
    "        y = random.randint(1, m-1)\n",
    "        \n",
    "        # Add a mine if one isn't already in that spot\n",
    "        if arr[y][x] != 'X':\n",
    "            i += 1\n",
    "            arr[y][x] = 'X'\n",
    "\n",
    "            # Uncomment for printout of board prior to adding 1's around each mine\n",
    "            # print_board(arr)\n",
    "            # print('\\n')\n",
    "            # print(np.argwhere(np.array(arr) == 'X'))\n",
    "            # print('\\n')\n",
    "\n",
    "            # Increase neighboring cells of mines by 1\n",
    "            ##########################################\n",
    "            centers = [(1, 0), (0, 1)]\n",
    "            corners = [(1, 1), (-1, 1)]\n",
    "            cells = []\n",
    "\n",
    "            # Generate list of cells to increase the values of \n",
    "            for t in centers:\n",
    "                cells.append((x+t[0], y+t[1]))\n",
    "                cells.append((x-t[0], y-t[1]))\n",
    "\n",
    "            for t in corners:\n",
    "                cells.append((x+t[0], y+t[1]))\n",
    "                cells.append((x+t[0], y-t[1]))\n",
    "\n",
    "            # Only increase value of cells if x and y are positive \n",
    "            # This is necessary because negative indexing in Python causes the code to \n",
    "            # loop around to the other side of the board, Pacman-style\n",
    "            for cell in [cell for cell in cells if cell[0] >= 0 and cell[1] >= 0]:\n",
    "                try:\n",
    "                    arr[cell[1]][cell[0]] += 1\n",
    "                # If cell location is off the board:\n",
    "                except IndexError:\n",
    "                    pass\n",
    "                # If trying to put a 1 in a cell containing a mine:\n",
    "                except TypeError:\n",
    "                    pass \n",
    "            \n",
    "            ##########################################\n",
    "            \n",
    "        else:\n",
    "            # If mine got generated on top of an existing mine, just keep going\n",
    "            # print('check reached')\n",
    "            pass\n",
    "\n",
    "    return arr"
   ]
  },
  {
   "cell_type": "code",
   "execution_count": 67,
   "id": "ce17ffc6-868f-42f6-9ca3-887194d7d7c2",
   "metadata": {},
   "outputs": [
    {
     "name": "stdout",
     "output_type": "stream",
     "text": [
      "0 1 2 3 4\n",
      "0 0 0 0 0\n",
      "0 1 1 1 0\n",
      "0 1 X 2 1\n",
      "0 1 1 2 X\n",
      "0 0 0 1 1\n"
     ]
    }
   ],
   "source": [
    "# Game code in development\n",
    "\n",
    "# Generate board, m = height and width of board, n = # of mines\n",
    "arr = create_board(m=5, n=2)\n",
    "\n",
    "# Print board with new values \n",
    "print_board(arr)"
   ]
  },
  {
   "cell_type": "code",
   "execution_count": 68,
   "id": "6a9986f6-55a0-408c-b44c-2b82ff6731e6",
   "metadata": {},
   "outputs": [
    {
     "data": {
      "text/plain": [
       "array([[3, 2],\n",
       "       [4, 4]])"
      ]
     },
     "execution_count": 68,
     "metadata": {},
     "output_type": "execute_result"
    }
   ],
   "source": [
    "# See where the mines are: \n",
    "np.argwhere(np.array(arr) == 'X')"
   ]
  },
  {
   "cell_type": "code",
   "execution_count": 69,
   "id": "797bc379-2596-406b-998e-16d0fc0417c9",
   "metadata": {},
   "outputs": [
    {
     "data": {
      "text/plain": [
       "array([[0, 1],\n",
       "       [0, 2],\n",
       "       [0, 3],\n",
       "       [0, 4],\n",
       "       [2, 1],\n",
       "       [2, 2],\n",
       "       [2, 3],\n",
       "       [3, 1],\n",
       "       [3, 2],\n",
       "       [3, 3],\n",
       "       [3, 4],\n",
       "       [4, 1],\n",
       "       [4, 2],\n",
       "       [4, 3],\n",
       "       [4, 4],\n",
       "       [5, 3],\n",
       "       [5, 4]])"
      ]
     },
     "execution_count": 69,
     "metadata": {},
     "output_type": "execute_result"
    }
   ],
   "source": [
    "# See list of neighboring cells\n",
    "np.argwhere(np.array(arr) != '0')"
   ]
  },
  {
   "cell_type": "markdown",
   "id": "4d2be48c-f0e9-409c-94c8-dd6ac667dd66",
   "metadata": {},
   "source": [
    "|Difficulty option | Board size | Mines |\n",
    "|--|--|--|\n",
    "|Beginner|9 x 9|10|\n",
    "|Intermediate|16 x 16|40|\n",
    "|Advanced|30 x 30|99|"
   ]
  },
  {
   "cell_type": "code",
   "execution_count": 70,
   "id": "2549152f-48b2-496a-8ba9-f2a30200de71",
   "metadata": {},
   "outputs": [],
   "source": [
    "settings = {\n",
    "    'Beginner': [9,10],\n",
    "    'Intermediate': [16, 40],\n",
    "    'Advanced': [30, 99]\n",
    "}"
   ]
  },
  {
   "cell_type": "code",
   "execution_count": 71,
   "id": "45e228ca-0d21-428c-9309-ff95004b086f",
   "metadata": {},
   "outputs": [],
   "source": [
    "def game():\n",
    "    s = input('What difficulty would you like?')\n",
    "    size = settings[s][0]\n",
    "    mines = settings[s][1]\n",
    "    print_board(create_board(size, mines))"
   ]
  },
  {
   "cell_type": "code",
   "execution_count": 72,
   "id": "1cee6d70-19de-4715-992d-3171023b6781",
   "metadata": {},
   "outputs": [
    {
     "name": "stdin",
     "output_type": "stream",
     "text": [
      "What difficulty would you like? Beginner\n"
     ]
    },
    {
     "name": "stdout",
     "output_type": "stream",
     "text": [
      "0 1 2 3 5 6 7 7 8\n",
      "1 2 2 1 1 X 1 0 0\n",
      "1 X X 2 2 1 1 0 0\n",
      "2 3 5 X 2 1 1 1 0\n",
      "1 X 4 X 3 1 X 1 0\n",
      "1 2 4 X 2 1 1 1 0\n",
      "0 1 X 2 1 1 1 1 0\n",
      "0 1 1 1 0 1 X 1 0\n",
      "0 0 0 0 0 1 1 1 0\n",
      "0 0 0 0 0 0 0 0 0\n"
     ]
    }
   ],
   "source": [
    "game()"
   ]
  },
  {
   "cell_type": "code",
   "execution_count": 75,
   "id": "2090aec5-3c39-4205-9fcc-482360f2a01c",
   "metadata": {},
   "outputs": [
    {
     "name": "stdin",
     "output_type": "stream",
     "text": [
      "What difficulty would you like? Intermediate\n"
     ]
    },
    {
     "name": "stdout",
     "output_type": "stream",
     "text": [
      "0 2 3 4 5 6 8 9 10 10 10 11 13 14 15 15\n",
      "0 1 X 1 1 X 2 X X 2 0 0 1 X 1 0\n",
      "0 1 1 2 2 2 2 4 X 3 0 1 2 2 1 0\n",
      "0 1 2 3 X 1 0 2 X 2 0 1 X 2 1 0\n",
      "0 1 X X 2 1 0 1 2 2 1 1 2 X 2 1\n",
      "0 1 2 2 1 0 1 2 3 X 2 1 1 2 3 X\n",
      "1 1 2 1 1 0 1 X X 3 X 1 0 1 X 3\n",
      "1 X 3 X 1 0 1 2 3 4 3 2 1 2 3 X\n",
      "1 2 X 3 2 1 0 0 2 X X 2 3 X 3 1\n",
      "0 1 1 2 X 1 0 0 2 X 4 3 X X 3 0\n",
      "1 1 1 1 1 2 1 1 1 2 X 2 3 X 2 0\n",
      "1 X 2 1 1 2 X 2 1 2 1 1 1 2 2 1\n",
      "1 2 X 1 1 X 2 2 X 1 0 0 0 1 X 1\n",
      "0 1 1 1 1 1 2 2 2 1 1 1 1 1 1 1\n",
      "0 0 0 0 1 1 2 X 1 0 1 X 1 0 0 0\n",
      "0 0 0 0 1 X 2 1 1 0 1 1 1 0 0 0\n",
      "0 0 0 0 1 1 1 0 0 0 0 0 0 0 0 0\n"
     ]
    }
   ],
   "source": [
    "game()"
   ]
  },
  {
   "cell_type": "code",
   "execution_count": 22,
   "id": "55204aa0-6a85-4e7c-bcf3-328971bc0464",
   "metadata": {},
   "outputs": [
    {
     "name": "stdin",
     "output_type": "stream",
     "text": [
      " x, y\n"
     ]
    },
    {
     "data": {
      "text/plain": [
       "'x, y'"
      ]
     },
     "execution_count": 22,
     "metadata": {},
     "output_type": "execute_result"
    }
   ],
   "source": [
    "a = input()\n",
    "a"
   ]
  },
  {
   "cell_type": "code",
   "execution_count": null,
   "id": "a3b936df-7612-475b-ba0b-3ae9f00bcf28",
   "metadata": {},
   "outputs": [],
   "source": []
  }
 ],
 "metadata": {
  "kernelspec": {
   "display_name": "Python 3 (ipykernel)",
   "language": "python",
   "name": "python3"
  },
  "language_info": {
   "codemirror_mode": {
    "name": "ipython",
    "version": 3
   },
   "file_extension": ".py",
   "mimetype": "text/x-python",
   "name": "python",
   "nbconvert_exporter": "python",
   "pygments_lexer": "ipython3",
   "version": "3.10.4"
  }
 },
 "nbformat": 4,
 "nbformat_minor": 5
}
